{
 "cells": [
  {
   "cell_type": "markdown",
   "metadata": {
    "id": "4X9jJ1rygDPQ"
   },
   "source": [
    "# Simple MNIST convnet\n",
    "\n",
    "**Author:** [fchollet](https://twitter.com/fchollet)<br>\n",
    "**Date created:** 2015/06/19<br>\n",
    "**Last modified:** 2020/04/21<br>\n",
    "**Description:** A simple convnet that achieves ~99% test accuracy on MNIST."
   ]
  },
  {
   "cell_type": "markdown",
   "metadata": {
    "id": "E_EQBtPigDPV"
   },
   "source": [
    "## Setup"
   ]
  },
  {
   "cell_type": "code",
   "execution_count": 34,
   "metadata": {
    "id": "JNOQuvAdgDPV"
   },
   "outputs": [],
   "source": [
    "import numpy as np\n",
    "import keras\n",
    "from keras import layers\n",
    "from keras.datasets import cifar10\n",
    "import seaborn as sns\n",
    "import numpy as np\n",
    "import pandas as pd\n",
    "import matplotlib.pyplot as plt\n",
    "import matplotlib.image as mpimg\n",
    "import itertools\n",
    "from tensorflow.keras.layers import Input, Conv2D, Dense, Flatten, Dropout\n",
    "from tensorflow.keras.layers import GlobalMaxPooling2D, MaxPooling2D\n",
    "from tensorflow.keras.layers import BatchNormalization\n",
    "from tensorflow.keras.models import Model"
   ]
  },
  {
   "cell_type": "markdown",
   "metadata": {
    "id": "sPpG_WKGgDPX"
   },
   "source": [
    "## Prepare the data"
   ]
  },
  {
   "cell_type": "code",
   "execution_count": 38,
   "metadata": {
    "colab": {
     "base_uri": "https://localhost:8080/"
    },
    "id": "U2Ey4hqkgDPX",
    "outputId": "924c0a66-309b-464b-b890-c0d269c29e1b"
   },
   "outputs": [],
   "source": [
    "(x_train, y_train), (x_test, y_test) = keras.datasets.cifar10.load_data()\n",
    "assert x_train.shape == (50000, 32, 32, 3)\n",
    "assert x_test.shape == (10000, 32, 32, 3)\n",
    "assert y_train.shape == (50000, 1)\n",
    "assert y_test.shape == (10000, 1)\n",
    "\n",
    "\n",
    "x_train, x_test = x_train / 255.0, x_test / 255.0\n",
    "y_train = y_train.flatten()\n",
    "y_test = y_test.flatten()\n"
   ]
  },
  {
   "cell_type": "markdown",
   "metadata": {
    "id": "AT1PAuBugDPY"
   },
   "source": [
    "## Build the model"
   ]
  },
  {
   "cell_type": "code",
   "execution_count": 39,
   "metadata": {
    "colab": {
     "base_uri": "https://localhost:8080/"
    },
    "id": "d9AfsI8DgDPY",
    "outputId": "fcbd9805-3e5b-408b-c67b-87173c736554"
   },
   "outputs": [
    {
     "name": "stdout",
     "output_type": "stream",
     "text": [
      "Model: \"model_1\"\n",
      "_________________________________________________________________\n",
      " Layer (type)                Output Shape              Param #   \n",
      "=================================================================\n",
      " input_6 (InputLayer)        [(None, 32, 32, 3)]       0         \n",
      "                                                                 \n",
      " conv2d_10 (Conv2D)          (None, 32, 32, 32)        896       \n",
      "                                                                 \n",
      " batch_normalization_6 (Batc  (None, 32, 32, 32)       128       \n",
      " hNormalization)                                                 \n",
      "                                                                 \n",
      " conv2d_11 (Conv2D)          (None, 32, 32, 32)        9248      \n",
      "                                                                 \n",
      " batch_normalization_7 (Batc  (None, 32, 32, 32)       128       \n",
      " hNormalization)                                                 \n",
      "                                                                 \n",
      " max_pooling2d_7 (MaxPooling  (None, 16, 16, 32)       0         \n",
      " 2D)                                                             \n",
      "                                                                 \n",
      " conv2d_12 (Conv2D)          (None, 16, 16, 64)        18496     \n",
      "                                                                 \n",
      " batch_normalization_8 (Batc  (None, 16, 16, 64)       256       \n",
      " hNormalization)                                                 \n",
      "                                                                 \n",
      " conv2d_13 (Conv2D)          (None, 16, 16, 64)        36928     \n",
      "                                                                 \n",
      " batch_normalization_9 (Batc  (None, 16, 16, 64)       256       \n",
      " hNormalization)                                                 \n",
      "                                                                 \n",
      " max_pooling2d_8 (MaxPooling  (None, 8, 8, 64)         0         \n",
      " 2D)                                                             \n",
      "                                                                 \n",
      " conv2d_14 (Conv2D)          (None, 8, 8, 128)         73856     \n",
      "                                                                 \n",
      " batch_normalization_10 (Bat  (None, 8, 8, 128)        512       \n",
      " chNormalization)                                                \n",
      "                                                                 \n",
      " conv2d_15 (Conv2D)          (None, 8, 8, 128)         147584    \n",
      "                                                                 \n",
      " batch_normalization_11 (Bat  (None, 8, 8, 128)        512       \n",
      " chNormalization)                                                \n",
      "                                                                 \n",
      " max_pooling2d_9 (MaxPooling  (None, 4, 4, 128)        0         \n",
      " 2D)                                                             \n",
      "                                                                 \n",
      " flatten_3 (Flatten)         (None, 2048)              0         \n",
      "                                                                 \n",
      " dropout_4 (Dropout)         (None, 2048)              0         \n",
      "                                                                 \n",
      " dense_4 (Dense)             (None, 1024)              2098176   \n",
      "                                                                 \n",
      " dropout_5 (Dropout)         (None, 1024)              0         \n",
      "                                                                 \n",
      " dense_5 (Dense)             (None, 10)                10250     \n",
      "                                                                 \n",
      "=================================================================\n",
      "Total params: 2,397,226\n",
      "Trainable params: 2,396,330\n",
      "Non-trainable params: 896\n",
      "_________________________________________________________________\n"
     ]
    }
   ],
   "source": [
    "i = Input(shape=x_train[0].shape)\n",
    "x = Conv2D(32, (3, 3), activation='relu', padding='same')(i)\n",
    "x = BatchNormalization()(x)\n",
    "x = Conv2D(32, (3, 3), activation='relu', padding='same')(x)\n",
    "x = BatchNormalization()(x)\n",
    "x = MaxPooling2D((2, 2))(x)\n",
    " \n",
    "x = Conv2D(64, (3, 3), activation='relu', padding='same')(x)\n",
    "x = BatchNormalization()(x)\n",
    "x = Conv2D(64, (3, 3), activation='relu', padding='same')(x)\n",
    "x = BatchNormalization()(x)\n",
    "x = MaxPooling2D((2, 2))(x)\n",
    " \n",
    "x = Conv2D(128, (3, 3), activation='relu', padding='same')(x)\n",
    "x = BatchNormalization()(x)\n",
    "x = Conv2D(128, (3, 3), activation='relu', padding='same')(x)\n",
    "x = BatchNormalization()(x)\n",
    "x = MaxPooling2D((2, 2))(x)\n",
    " \n",
    "x = Flatten()(x)\n",
    "x = Dropout(0.2)(x)\n",
    " \n",
    "x = Dense(1024, activation='relu')(x)\n",
    "x = Dropout(0.2)(x)\n",
    " \n",
    "x = Dense(K, activation='softmax')(x)\n",
    " \n",
    "model = Model(i, x)\n",
    " \n",
    "model.summary()"
   ]
  },
  {
   "cell_type": "markdown",
   "metadata": {
    "id": "hr4eEGBWgDPZ"
   },
   "source": [
    "## Train the model"
   ]
  },
  {
   "cell_type": "code",
   "execution_count": 44,
   "metadata": {
    "colab": {
     "base_uri": "https://localhost:8080/"
    },
    "id": "N6JjxD4lgDPZ",
    "outputId": "16ee0a92-1d57-4159-92a3-a7fdf21209f1"
   },
   "outputs": [
    {
     "name": "stdout",
     "output_type": "stream",
     "text": [
      "Epoch 1/15\n",
      "352/352 [==============================] - 498s 1s/step - loss: 1.5093 - accuracy: 0.4990 - val_loss: 3.3191 - val_accuracy: 0.1548\n",
      "Epoch 2/15\n",
      "352/352 [==============================] - 503s 1s/step - loss: 0.9097 - accuracy: 0.6773 - val_loss: 0.9062 - val_accuracy: 0.6796\n",
      "Epoch 3/15\n",
      "352/352 [==============================] - 505s 1s/step - loss: 0.7081 - accuracy: 0.7512 - val_loss: 0.7229 - val_accuracy: 0.7478\n",
      "Epoch 4/15\n",
      "352/352 [==============================] - 508s 1s/step - loss: 0.5792 - accuracy: 0.7976 - val_loss: 0.6987 - val_accuracy: 0.7630\n",
      "Epoch 5/15\n",
      "352/352 [==============================] - 503s 1s/step - loss: 0.4760 - accuracy: 0.8333 - val_loss: 0.6205 - val_accuracy: 0.7844\n",
      "Epoch 6/15\n",
      "352/352 [==============================] - 497s 1s/step - loss: 0.3919 - accuracy: 0.8618 - val_loss: 0.6166 - val_accuracy: 0.7994\n",
      "Epoch 7/15\n",
      "352/352 [==============================] - 496s 1s/step - loss: 0.3242 - accuracy: 0.8851 - val_loss: 0.6070 - val_accuracy: 0.8038\n",
      "Epoch 8/15\n",
      "352/352 [==============================] - 501s 1s/step - loss: 0.2632 - accuracy: 0.9058 - val_loss: 0.6368 - val_accuracy: 0.8038\n",
      "Epoch 9/15\n",
      "352/352 [==============================] - 504s 1s/step - loss: 0.2212 - accuracy: 0.9216 - val_loss: 0.6347 - val_accuracy: 0.8076\n",
      "Epoch 10/15\n",
      "352/352 [==============================] - 501s 1s/step - loss: 0.1979 - accuracy: 0.9299 - val_loss: 0.6294 - val_accuracy: 0.8186\n",
      "Epoch 11/15\n",
      "352/352 [==============================] - 496s 1s/step - loss: 0.1575 - accuracy: 0.9447 - val_loss: 0.8043 - val_accuracy: 0.8034\n",
      "Epoch 12/15\n",
      "352/352 [==============================] - 499s 1s/step - loss: 0.1379 - accuracy: 0.9518 - val_loss: 0.7422 - val_accuracy: 0.8082\n",
      "Epoch 13/15\n",
      "352/352 [==============================] - 504s 1s/step - loss: 0.1212 - accuracy: 0.9575 - val_loss: 0.7515 - val_accuracy: 0.8146\n",
      "Epoch 14/15\n",
      "352/352 [==============================] - 499s 1s/step - loss: 0.1233 - accuracy: 0.9570 - val_loss: 0.8527 - val_accuracy: 0.8092\n",
      "Epoch 15/15\n",
      "352/352 [==============================] - 504s 1s/step - loss: 0.1112 - accuracy: 0.9620 - val_loss: 0.9902 - val_accuracy: 0.7842\n"
     ]
    },
    {
     "data": {
      "text/plain": [
       "<keras.callbacks.History at 0x7f0098561610>"
      ]
     },
     "execution_count": 44,
     "metadata": {},
     "output_type": "execute_result"
    }
   ],
   "source": [
    "batch_size = 128\n",
    "epochs = 15\n",
    "\n",
    "model.compile(loss=\"sparse_categorical_crossentropy\", optimizer=\"adam\", metrics=[\"accuracy\"])\n",
    "\n",
    "model.fit(x_train, y_train, batch_size=batch_size, epochs=epochs, validation_split=0.1)"
   ]
  },
  {
   "cell_type": "markdown",
   "metadata": {
    "id": "fzYnMiC2gDPa"
   },
   "source": [
    "## Evaluate the trained model"
   ]
  },
  {
   "cell_type": "code",
   "execution_count": 50,
   "metadata": {
    "colab": {
     "base_uri": "https://localhost:8080/"
    },
    "id": "Rep3mLVYgDPc",
    "outputId": "b8840e40-d72e-41c8-c311-33b1ad26ec04"
   },
   "outputs": [
    {
     "name": "stdout",
     "output_type": "stream",
     "text": [
      "Test loss: 0.9371569156646729\n",
      "Test accuracy: 0.7807999849319458\n"
     ]
    }
   ],
   "source": [
    "score = model.evaluate(x_test, y_test, verbose=0)\n",
    "print(\"Test loss:\", score[0])\n",
    "print(\"Test accuracy:\", score[1])"
   ]
  },
  {
   "cell_type": "code",
   "execution_count": 51,
   "metadata": {
    "colab": {
     "base_uri": "https://localhost:8080/",
     "height": 406
    },
    "id": "2kS1w0ZhGnTu",
    "outputId": "6dc934b2-8327-4020-f5d9-263a5250a8c2"
   },
   "outputs": [
    {
     "name": "stdout",
     "output_type": "stream",
     "text": [
      "1/1 [==============================] - 0s 14ms/step\n",
      "Original label is cat and predicted label is cat\n"
     ]
    },
    {
     "data": {
      "image/png": "[encoded data removed]",
      "text/plain": [
       "<Figure size 640x480 with 1 Axes>"
      ]
     },
     "metadata": {},
     "output_type": "display_data"
    }
   ],
   "source": [
    "# label mapping\n",
    " \n",
    "labels = '''airplane automobile bird cat deerdog frog horseship truck'''.split()\n",
    " \n",
    "# select the image from our test dataset\n",
    "image_number = 0\n",
    " \n",
    "# display the image\n",
    "plt.imshow(x_test[image_number])\n",
    " \n",
    "# load the image in an array\n",
    "n = np.array(x_test[image_number])\n",
    " \n",
    "# reshape it\n",
    "p = n.reshape(1, 32, 32, 3)\n",
    " \n",
    "# pass in the network for prediction and \n",
    "# save the predicted label\n",
    "predicted_label = labels[model.predict(p).argmax()]\n",
    " \n",
    "# load the original label\n",
    "original_label = labels[y_test[image_number]]\n",
    " \n",
    "# display the result\n",
    "print(\"Original label is {} and predicted label is {}\".format(\n",
    "    original_label, predicted_label))\n"
   ]
  },
  {
   "cell_type": "code",
   "execution_count": null,
   "metadata": {},
   "outputs": [],
   "source": []
  }
 ],
 "metadata": {
  "accelerator": "GPU",
  "colab": {
   "provenance": [],
   "toc_visible": true
  },
  "kernelspec": {
   "display_name": "Python 3 (ipykernel)",
   "language": "python",
   "name": "python3"
  },
  "language_info": {
   "codemirror_mode": {
    "name": "ipython",
    "version": 3
   },
   "file_extension": ".py",
   "mimetype": "text/x-python",
   "name": "python",
   "nbconvert_exporter": "python",
   "pygments_lexer": "ipython3",
   "version": "3.11.5"
  }
 },
 "nbformat": 4,
 "nbformat_minor": 4
}
